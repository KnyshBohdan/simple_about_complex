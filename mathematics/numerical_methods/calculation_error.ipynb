{
 "cells": [
  {
   "cell_type": "markdown",
   "id": "f6838534",
   "metadata": {},
   "source": [
    "<h1> Похибка чисельних розрахунків </h1>"
   ]
  },
  {
   "cell_type": "code",
   "execution_count": null,
   "id": "bcfaa509",
   "metadata": {},
   "outputs": [],
   "source": []
  },
  {
   "cell_type": "markdown",
   "id": "b9aa8f71",
   "metadata": {},
   "source": [
    "<h2> Зміст </h2>\n",
    "\n",
    "1. Для чого нам потрібна похибка?<br>\n",
    "2. Main<br>\n"
   ]
  },
  {
   "cell_type": "markdown",
   "id": "13729e50",
   "metadata": {},
   "source": [
    "<h2> 1. Для чого нам потрібна похибка? </h2>"
   ]
  },
  {
   "cell_type": "markdown",
   "id": "3477588a",
   "metadata": {},
   "source": [
    "Похибки можна розрізняти 3 типів: <br>\n",
    "    1. похибка вхідних даних і спрощення моделей компонентів <br>\n",
    "    2. округлення під час очбислення, локальні відсікання <br>\n",
    "    3. похибки представлення чисел в комп'ютері\n",
    "Проте всі вони мають спільний характер, вони створюють помилки в обчисленні. Результат, який ми отримуємо не буде співставлятися з реальними даними. Найпростіший приклад похибки це прогноз погоди. Погода це надзвичайно складне явище, щоб передбачати його потрібно знайти поточну температуру повітря на кожній ділянці планети, тиск, швидкість вітру. Врахувати турбулентність, тропічні циклони і так далі. Це все занадто складно і майже не реально, тому фізики зробили те, що роблять найкраще апроксимують та інтерполюють."
   ]
  },
  {
   "cell_type": "code",
   "execution_count": null,
   "id": "4a6a39bb",
   "metadata": {},
   "outputs": [],
   "source": []
  }
 ],
 "metadata": {
  "kernelspec": {
   "display_name": "Python 3 (ipykernel)",
   "language": "python",
   "name": "python3"
  },
  "language_info": {
   "codemirror_mode": {
    "name": "ipython",
    "version": 3
   },
   "file_extension": ".py",
   "mimetype": "text/x-python",
   "name": "python",
   "nbconvert_exporter": "python",
   "pygments_lexer": "ipython3",
   "version": "3.9.13"
  }
 },
 "nbformat": 4,
 "nbformat_minor": 5
}
